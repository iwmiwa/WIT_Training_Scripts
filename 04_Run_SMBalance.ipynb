{
 "cells": [
  {
   "cell_type": "markdown",
   "id": "df541fa4",
   "metadata": {},
   "source": [
    "# 4. Run SMBalance Module"
   ]
  },
  {
   "cell_type": "markdown",
   "id": "cec04670",
   "metadata": {},
   "source": [
    "# 4.1 Import Functions"
   ]
  },
  {
   "cell_type": "code",
   "execution_count": null,
   "id": "6283c299",
   "metadata": {},
   "outputs": [],
   "source": [
    "import os\n",
    "import glob\n",
    "#import WAPORWA modules\n",
    "os.chdir(r'C:\\WIT_Training_material\\Zarqa_WA\\WAPORWA-master\\modules') #change to modules path\n",
    "import WA\n",
    "from WA.pickle_basin import pickle_in,pickle_out  \n",
    "from WA.model_SMBalance import run_SMBalance\n",
    "from dask.distributed import Client\n",
    "\n",
    "#Read pickle\n",
    "Main_dir=r\"C:\\WIT_Training_material\\Zarqa_WA\\Main\"\n",
    "pickle=glob.glob(os.path.join(Main_dir,'*.pickle'))[-1] \n",
    "BASIN=pickle_in(pickle)  \n",
    "\n",
    "#Customize dask performance\n",
    "client = Client()\n",
    "client"
   ]
  },
  {
   "cell_type": "code",
   "execution_count": null,
   "id": "73d9e89a",
   "metadata": {},
   "outputs": [],
   "source": [
    "BASIN"
   ]
  },
  {
   "cell_type": "markdown",
   "id": "14d1a029",
   "metadata": {},
   "source": [
    "# 4.2 Run SM Balance"
   ]
  },
  {
   "cell_type": "code",
   "execution_count": null,
   "id": "5b331e7c",
   "metadata": {},
   "outputs": [],
   "source": [
    "import  datetime\n",
    "starttime = datetime.datetime.now()\n",
    "\n",
    "\n",
    "## Read model input data from pickled dictionary\n",
    "MAIN_FOLDER= os.path.join(BASIN['Dir'],'data','nc')\n",
    "\n",
    "\n",
    "## read netCDF files    \n",
    "smsat_file = BASIN['main_data']['stat']['thetasat'] #saturated soil moisture content\n",
    "p_in = BASIN['main_data']['monthly']['p'] # monthly precipitation\n",
    "e_in = BASIN['main_data']['monthly']['et'] # monthly actual evapotranspiration\n",
    "i_in = BASIN['main_data']['monthly']['i'] # monthly interception\n",
    "rd_in = BASIN['main_data']['monthly']['nRD'] # monthly number of rainy days\n",
    "lu_in = BASIN['main_data']['yearly']['lcc']  # monthly land cover class\n",
    "\n",
    "outputs=run_SMBalance(MAIN_FOLDER,\n",
    "                      p_in, e_in, i_in, rd_in, lu_in, smsat_file,                      \n",
    "                      f_perc=1, # percolation factor\n",
    "                      f_Smax=0.9, # threshold percolation parameter\n",
    "                      cf =  20, # f_Ssat soil mositure correction factor to componsate the variation in filling up and drying in a month\n",
    "                      chunks=[1,300,300] # chunk size [time,lon, lat]\n",
    "                     )\n",
    "\n",
    "BASIN['main_data']['monthly']['etrain']=outputs[0]\n",
    "BASIN['main_data']['monthly']['etincr']=outputs[1]\n",
    "pickle_out(BASIN)\n",
    "\n",
    "\n",
    "\n",
    "endtime = datetime.datetime.now()\n",
    "print(endtime-starttime)"
   ]
  },
  {
   "cell_type": "code",
   "execution_count": null,
   "id": "4e57785c",
   "metadata": {},
   "outputs": [],
   "source": []
  }
 ],
 "metadata": {
  "kernelspec": {
   "display_name": "Python 3 (ipykernel)",
   "language": "python",
   "name": "python3"
  },
  "language_info": {
   "codemirror_mode": {
    "name": "ipython",
    "version": 3
   },
   "file_extension": ".py",
   "mimetype": "text/x-python",
   "name": "python",
   "nbconvert_exporter": "python",
   "pygments_lexer": "ipython3",
   "version": "3.7.11"
  }
 },
 "nbformat": 4,
 "nbformat_minor": 5
}
